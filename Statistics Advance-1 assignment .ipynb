{
 "cells": [
  {
   "cell_type": "markdown",
   "id": "fc0244c1-efee-4a53-b2d9-1f41b6642963",
   "metadata": {},
   "source": [
    "Q1. What is the Probability density function ?"
   ]
  },
  {
   "cell_type": "markdown",
   "id": "52a38f1a-b3a6-4466-8f67-7820a6cc8ba0",
   "metadata": {},
   "source": [
    "Probability density function is used to specify the probability of the random variable falling within a particular range of values."
   ]
  },
  {
   "cell_type": "markdown",
   "id": "0341ac1d-ad98-4c4e-8a2c-8705186befaf",
   "metadata": {},
   "source": [
    "Q2. What are the types of Probability distribution ?"
   ]
  },
  {
   "cell_type": "markdown",
   "id": "2bf1a9f8-d738-40ca-be06-022a3a8b64fd",
   "metadata": {},
   "source": [
    "- Discrete probability distributions.\n",
    "\n",
    "- Continuous probability distributions."
   ]
  },
  {
   "cell_type": "markdown",
   "id": "f1a8db0f-84d8-416f-80ac-a7af9fd67825",
   "metadata": {},
   "source": [
    "Q3. Write a Python function to calculate the probability density function of a normal distribution with\n",
    "given mean and standard deviation at a given point."
   ]
  },
  {
   "cell_type": "code",
   "execution_count": 1,
   "id": "6bb0b4ff-299f-4c08-8813-bc49679d227f",
   "metadata": {},
   "outputs": [],
   "source": [
    "import math\n",
    "\n",
    "def normal_pdf(x, mu, sigma):\n",
    "    return (1 / (sigma * math.sqrt(2 * math.pi))) * math.exp(-(x - mu) ** 2 / (2 * sigma ** 2))"
   ]
  },
  {
   "cell_type": "code",
   "execution_count": 3,
   "id": "d94e5811-94fd-4948-894d-c3de4d8975aa",
   "metadata": {},
   "outputs": [
    {
     "name": "stdout",
     "output_type": "stream",
     "text": [
      "0.2515888184619955\n"
     ]
    }
   ],
   "source": [
    "pdf = normal_pdf(2.5, 3, 1.5)\n",
    "print(pdf)\n"
   ]
  },
  {
   "cell_type": "markdown",
   "id": "65e50bb2-e219-49ec-bda0-d92edc4dcdb4",
   "metadata": {},
   "source": [
    "Q4. What are the properties of Binomial distribution? Give two examples of events where binomial\n",
    "distribution can be applied."
   ]
  },
  {
   "cell_type": "markdown",
   "id": "44c94ad4-0fbe-48b2-9b4d-4c5b58c1413c",
   "metadata": {},
   "source": [
    "There are two possible outcomes: true or false, success or failure, yes or no. There is 'n' number of independent trials or a fixed number of n times repeated trials."
   ]
  },
  {
   "cell_type": "markdown",
   "id": "65143ece-40e1-46e7-ac09-422f81b35b72",
   "metadata": {},
   "source": [
    "EXAMPLE -\n",
    "\n",
    "1 - Tossing a coin there is two outcome head or tail , 0 or 1.\n",
    "\n",
    "2 - pass or fail in exam , there are only two outcomes pass or fail , 1 or 0."
   ]
  },
  {
   "cell_type": "markdown",
   "id": "06dc728e-bb95-4e20-a7ee-ba6e8c7efa7b",
   "metadata": {},
   "source": [
    "Q7. How Binomial distribution different from Poisson distribution?"
   ]
  },
  {
   "cell_type": "markdown",
   "id": "26d51904-87d1-46ce-ada9-2ce65a2457a2",
   "metadata": {},
   "source": [
    "Binomial distribution is the one in which the number of outcomes are only 2 (0 or 1) and whereas Poisson distribution is the one in which the number of outcomes are unlimited."
   ]
  },
  {
   "cell_type": "markdown",
   "id": "94b6a04c-e800-4370-95aa-4a59a2bca456",
   "metadata": {},
   "source": [
    "Q9. How mean and variance are related in Binomial distribution and Poisson distribution ?"
   ]
  },
  {
   "cell_type": "markdown",
   "id": "b751eaa9-3895-4fcd-ae0a-161985711e23",
   "metadata": {},
   "source": [
    "The mean of the binomial distribution is always equal to p, and the variance is always equal to pq/N."
   ]
  },
  {
   "cell_type": "markdown",
   "id": "929d88ba-6a1b-4d2b-93c2-95dce1ce8f30",
   "metadata": {},
   "source": [
    "Q10. In normal distribution with respect to mean position, where does the least frequent data appear ?"
   ]
  },
  {
   "cell_type": "markdown",
   "id": "379a5524-1e78-4ceb-a467-35b442a45036",
   "metadata": {},
   "source": [
    "In Third std"
   ]
  },
  {
   "cell_type": "markdown",
   "id": "9172830e-606e-4c05-8258-5c120888fba8",
   "metadata": {},
   "source": [
    "Q8. Generate a random sample of size 1000 from a Poisson distribution with mean 5 and calculate the\n",
    "sample mean and variance."
   ]
  },
  {
   "cell_type": "code",
   "execution_count": 1,
   "id": "8fa66138-c7d0-42ea-82aa-45524d89f55c",
   "metadata": {},
   "outputs": [],
   "source": [
    "import numpy as np"
   ]
  },
  {
   "cell_type": "code",
   "execution_count": 44,
   "id": "e095aec1-6318-4bee-90bc-9254f489aa02",
   "metadata": {},
   "outputs": [],
   "source": [
    "df = np.random.poisson(5,1000)"
   ]
  },
  {
   "cell_type": "code",
   "execution_count": 45,
   "id": "065691a4-e27a-4bc6-b19d-38b70c1cb634",
   "metadata": {},
   "outputs": [
    {
     "data": {
      "text/plain": [
       "4.916"
      ]
     },
     "execution_count": 45,
     "metadata": {},
     "output_type": "execute_result"
    }
   ],
   "source": [
    "df.mean()"
   ]
  },
  {
   "cell_type": "code",
   "execution_count": 46,
   "id": "a2f0294a-5381-4e58-995b-966526556b81",
   "metadata": {},
   "outputs": [
    {
     "data": {
      "text/plain": [
       "4.898943999999999"
      ]
     },
     "execution_count": 46,
     "metadata": {},
     "output_type": "execute_result"
    }
   ],
   "source": [
    "df.var()"
   ]
  },
  {
   "cell_type": "markdown",
   "id": "0f98061b-38fa-44bd-8ef3-62b1e7204f2b",
   "metadata": {},
   "source": [
    "Sample mean = 4.916"
   ]
  },
  {
   "cell_type": "markdown",
   "id": "6a5cc55a-aeb7-4879-b81b-d83c9ac473bc",
   "metadata": {},
   "source": [
    "Q5. Generate a random sample of size 1000 from a binomial distribution with probability of success 0.4\n",
    "and plot a histogram of the results using matplotlib."
   ]
  },
  {
   "cell_type": "code",
   "execution_count": 69,
   "id": "fe1bcabd-aef2-484d-9047-62f6c84f970e",
   "metadata": {},
   "outputs": [],
   "source": [
    "df_p = np.random.binomial(10,0.4,1000)"
   ]
  },
  {
   "cell_type": "code",
   "execution_count": 71,
   "id": "9a598b61-1e65-45d5-8184-df4bc07985ee",
   "metadata": {},
   "outputs": [],
   "source": [
    "import matplotlib.pyplot as plt"
   ]
  },
  {
   "cell_type": "code",
   "execution_count": 81,
   "id": "63fca8f8-a059-4b26-ba35-5b978bfa7c91",
   "metadata": {},
   "outputs": [
    {
     "data": {
      "image/png": "[encoded data removed]",
      "text/plain": [
       "<Figure size 640x480 with 1 Axes>"
      ]
     },
     "metadata": {},
     "output_type": "display_data"
    }
   ],
   "source": [
    "fig = plt.hist(df_p)"
   ]
  },
  {
   "cell_type": "markdown",
   "id": "707e4776-7faf-45f7-811c-cdcf630bf778",
   "metadata": {},
   "source": [
    "Q6. Write a Python function to calculate the cumulative distribution function of a Poisson distribution\n",
    "with given mean at a given point."
   ]
  },
  {
   "cell_type": "code",
   "execution_count": 6,
   "id": "89500e30-5e4e-4f5c-8286-675886f3dd06",
   "metadata": {},
   "outputs": [],
   "source": [
    "import math\n",
    "\n",
    "def poisson_cdf(k, mu):\n",
    "    cdf = 0.0\n",
    "    for i in range(k + 1):\n",
    "        cdf += (mu ** i / math.factorial(i)) * math.exp(-mu)\n",
    "    return cdf\n"
   ]
  },
  {
   "cell_type": "code",
   "execution_count": 7,
   "id": "39c4b7fc-647f-4ea0-9cd9-e57edcf2a47f",
   "metadata": {},
   "outputs": [
    {
     "name": "stdout",
     "output_type": "stream",
     "text": [
      "0.7575761331330659\n"
     ]
    }
   ],
   "source": [
    "cdf = poisson_cdf(3, 2.5)\n",
    "print(cdf)\n"
   ]
  }
 ],
 "metadata": {
  "kernelspec": {
   "display_name": "Python 3 (ipykernel)",
   "language": "python",
   "name": "python3"
  },
  "language_info": {
   "codemirror_mode": {
    "name": "ipython",
    "version": 3
   },
   "file_extension": ".py",
   "mimetype": "text/x-python",
   "name": "python",
   "nbconvert_exporter": "python",
   "pygments_lexer": "ipython3",
   "version": "3.10.8"
  }
 },
 "nbformat": 4,
 "nbformat_minor": 5
}
